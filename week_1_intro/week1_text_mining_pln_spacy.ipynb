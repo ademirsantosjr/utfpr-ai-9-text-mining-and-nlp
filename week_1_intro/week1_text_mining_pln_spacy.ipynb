{
  "nbformat": 4,
  "nbformat_minor": 0,
  "metadata": {
    "colab": {
      "provenance": [],
      "authorship_tag": "ABX9TyPNrkQMFDM39Ef9UaMDbFMD",
      "include_colab_link": true
    },
    "kernelspec": {
      "name": "python3",
      "display_name": "Python 3"
    },
    "language_info": {
      "name": "python"
    }
  },
  "cells": [
    {
      "cell_type": "markdown",
      "metadata": {
        "id": "view-in-github",
        "colab_type": "text"
      },
      "source": [
        "<a href=\"https://colab.research.google.com/github/ademirsantosjr/utfpr-ai-9-text-mining-and-nlp/blob/feature%2Fintro-and-nlp-tasks/week_1_intro/week1_text_mining_pln_spacy.ipynb\" target=\"_parent\"><img src=\"https://colab.research.google.com/assets/colab-badge.svg\" alt=\"Open In Colab\"/></a>"
      ]
    },
    {
      "cell_type": "code",
      "execution_count": 1,
      "metadata": {
        "id": "hsjj95-K4buX"
      },
      "outputs": [],
      "source": [
        "import spacy"
      ]
    },
    {
      "cell_type": "code",
      "source": [
        "# Load English simple model based on the web\n",
        "nlp_en = spacy.load(\"en_core_web_sm\")\n",
        "\n",
        "# Define document\n",
        "doc_en = nlp_en(\"Now, we are at the beginning of the NLP and Text Mining course.\")"
      ],
      "metadata": {
        "id": "K4meiZCS5ZB7"
      },
      "execution_count": 2,
      "outputs": []
    },
    {
      "cell_type": "code",
      "source": [
        "# Iterate tokens\n",
        "for token in doc_en:\n",
        "    print(f'{token.text:20}\\t {token.tag_:4}\\t {token.lemma_:20}\\t {token.is_stop}')\n"
      ],
      "metadata": {
        "colab": {
          "base_uri": "https://localhost:8080/"
        },
        "collapsed": true,
        "id": "NDJ1JvlY6BpB",
        "outputId": "07ed380e-bd41-463f-8b2c-6ecc07005264"
      },
      "execution_count": 3,
      "outputs": [
        {
          "output_type": "stream",
          "name": "stdout",
          "text": [
            "Now                 \t RB  \t now                 \t True\n",
            ",                   \t ,   \t ,                   \t False\n",
            "we                  \t PRP \t we                  \t True\n",
            "are                 \t VBP \t be                  \t True\n",
            "at                  \t IN  \t at                  \t True\n",
            "the                 \t DT  \t the                 \t True\n",
            "beginning           \t NN  \t beginning           \t False\n",
            "of                  \t IN  \t of                  \t True\n",
            "the                 \t DT  \t the                 \t True\n",
            "NLP                 \t NNP \t NLP                 \t False\n",
            "and                 \t CC  \t and                 \t True\n",
            "Text                \t NNP \t Text                \t False\n",
            "Mining              \t NNP \t Mining              \t False\n",
            "course              \t NN  \t course              \t False\n",
            ".                   \t .   \t .                   \t False\n"
          ]
        }
      ]
    },
    {
      "cell_type": "code",
      "source": [
        "# Load portuguese simple model based on news\n",
        "nlp_pt = spacy.load(\"pt_core_news_sm\")\n",
        "\n",
        "# Define document\n",
        "doc_pt = nlp_pt(\"Agora, nós estamos no incíio do curso de Mineração de Texto e PLN.\")"
      ],
      "metadata": {
        "id": "_FZp6x-L8j1P"
      },
      "execution_count": 4,
      "outputs": []
    },
    {
      "cell_type": "code",
      "source": [
        "# Iterate tokens\n",
        "for token in doc_pt:\n",
        "    print(f'{token.text:20}\\t {token.tag_:4}\\t {token.lemma_:20}\\t {token.is_stop}')"
      ],
      "metadata": {
        "colab": {
          "base_uri": "https://localhost:8080/"
        },
        "collapsed": true,
        "id": "t1SdxnOp8-d5",
        "outputId": "7fee70ec-e914-4821-c7ed-062cec69295f"
      },
      "execution_count": 5,
      "outputs": [
        {
          "output_type": "stream",
          "name": "stdout",
          "text": [
            "Agora               \t ADV \t agora               \t True\n",
            ",                   \t PUNCT\t ,                   \t False\n",
            "nós                 \t PRON\t nós                 \t True\n",
            "estamos             \t AUX \t estar               \t False\n",
            "no                  \t ADP \t em o                \t True\n",
            "incíio              \t NOUN\t incíio              \t False\n",
            "do                  \t ADP \t de o                \t True\n",
            "curso               \t NOUN\t curso               \t False\n",
            "de                  \t ADP \t de                  \t True\n",
            "Mineração           \t PROPN\t Mineração           \t False\n",
            "de                  \t ADP \t de                  \t True\n",
            "Texto               \t PROPN\t Texto               \t False\n",
            "e                   \t CCONJ\t e                   \t True\n",
            "PLN                 \t PROPN\t PLN                 \t False\n",
            ".                   \t PUNCT\t .                   \t False\n"
          ]
        }
      ]
    }
  ]
}